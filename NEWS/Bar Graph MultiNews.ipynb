{
 "cells": [
  {
   "cell_type": "code",
   "execution_count": 1,
   "metadata": {},
   "outputs": [],
   "source": [
    "# Dependencies\n",
    "import tweepy\n",
    "import numpy as np\n",
    "import pandas as pd\n",
    "from datetime import datetime\n",
    "import matplotlib.pyplot as plt\n",
    "from matplotlib import style\n",
    "style.use('fivethirtyeight')\n",
    "\n",
    "# Import and Initialize Sentiment Analyzer\n",
    "from vaderSentiment.vaderSentiment import SentimentIntensityAnalyzer\n",
    "analyzer = SentimentIntensityAnalyzer()\n",
    "\n",
    "# Twitter API Keys\n",
    "from twitter_config import (consumer_key, \n",
    "                    consumer_secret, \n",
    "                    access_token, \n",
    "                    access_token_secret)\n",
    "\n",
    "# Setup Tweepy API Authentication\n",
    "auth = tweepy.OAuthHandler(consumer_key, consumer_secret)\n",
    "auth.set_access_token(access_token, access_token_secret)\n",
    "api = tweepy.API(auth, parser=tweepy.parsers.JSONParser())"
   ]
  },
  {
   "cell_type": "code",
   "execution_count": 2,
   "metadata": {},
   "outputs": [
    {
     "name": "stdout",
     "output_type": "stream",
     "text": [
      "User: @FoxNews\n",
      "Compound: -0.112\n",
      "Positive: 0.059\n",
      "Neutral: 0.826\n",
      "Negative: 0.115\n",
      "User: @CBSNews\n",
      "Compound: -0.149\n",
      "Positive: 0.047\n",
      "Neutral: 0.844\n",
      "Negative: 0.109\n",
      "User: @BBCNews\n",
      "Compound: -0.138\n",
      "Positive: 0.049\n",
      "Neutral: 0.827\n",
      "Negative: 0.125\n",
      "User: @CNN\n",
      "Compound: -0.069\n",
      "Positive: 0.055\n",
      "Neutral: 0.863\n",
      "Negative: 0.082\n",
      "User: @nytimes\n",
      "Compound: -0.062\n",
      "Positive: 0.050\n",
      "Neutral: 0.875\n",
      "Negative: 0.075\n"
     ]
    }
   ],
   "source": [
    "# Target User Accounts\n",
    "target_user = (\"@FoxNews\", \"@CBSNews\", \"@BBCNews\", \"@CNN\", \"@nytimes\" )\n",
    "\n",
    "# List for dictionaries of results\n",
    "results_list = []\n",
    "\n",
    "# Loop through each user\n",
    "for user in target_user:\n",
    "\n",
    "    # Variables for holding sentiments\n",
    "    compound_list = []\n",
    "    positive_list = []\n",
    "    negative_list = []\n",
    "    neutral_list = []\n",
    "\n",
    "    # Loop through 10 pages of tweets (total 200 tweets)\n",
    "    for x in range(1, 11):\n",
    "\n",
    "        # Get all tweets from home feed\n",
    "        public_tweets = api.user_timeline(user, page=x)\n",
    "\n",
    "        # Loop through all tweets\n",
    "        for tweet in public_tweets:\n",
    "\n",
    "            # Run Vader Analysis on each tweet\n",
    "            results = analyzer.polarity_scores(tweet[\"text\"])\n",
    "            compound = results[\"compound\"]\n",
    "            pos = results[\"pos\"]\n",
    "            neu = results[\"neu\"]\n",
    "            neg = results[\"neg\"]\n",
    "            \n",
    "\n",
    "            # Add each value to the appropriate list\n",
    "            compound_list.append(compound)\n",
    "            positive_list.append(pos)\n",
    "            negative_list.append(neg)\n",
    "            neutral_list.append(neu)\n",
    "           \n",
    "\n",
    "    # Create a dictionaty of results\n",
    "    user_results = {\n",
    "        \"Username\": user,\n",
    "        \"Compound Score\": np.mean(compound_list),\n",
    "        \"Postive Score\": np.mean(positive_list),\n",
    "        \"Neutral Score\": np.mean(neutral_list),\n",
    "        \"Negative Score\": np.mean(negative_list)\n",
    "    }\n",
    "\n",
    "    # Append dictionary to list\n",
    "    results_list.append(user_results)\n",
    "\n",
    "    # Print the Averages\n",
    "    print(f\"User: {user}\")\n",
    "    print(f\"Compound: {np.mean(compound_list):.3f}\")\n",
    "    print(f\"Positive: {np.mean(positive_list):.3f}\")\n",
    "    print(f\"Neutral: {np.mean(neutral_list):.3f}\")\n",
    "    print(f\"Negative: {np.mean(negative_list):.3f}\")"
   ]
  },
  {
   "cell_type": "code",
   "execution_count": 3,
   "metadata": {},
   "outputs": [
    {
     "data": {
      "text/html": [
       "<div>\n",
       "<style scoped>\n",
       "    .dataframe tbody tr th:only-of-type {\n",
       "        vertical-align: middle;\n",
       "    }\n",
       "\n",
       "    .dataframe tbody tr th {\n",
       "        vertical-align: top;\n",
       "    }\n",
       "\n",
       "    .dataframe thead th {\n",
       "        text-align: right;\n",
       "    }\n",
       "</style>\n",
       "<table border=\"1\" class=\"dataframe\">\n",
       "  <thead>\n",
       "    <tr style=\"text-align: right;\">\n",
       "      <th></th>\n",
       "      <th>Compound Score</th>\n",
       "      <th>Negative Score</th>\n",
       "      <th>Neutral Score</th>\n",
       "      <th>Postive Score</th>\n",
       "    </tr>\n",
       "    <tr>\n",
       "      <th>Username</th>\n",
       "      <th></th>\n",
       "      <th></th>\n",
       "      <th></th>\n",
       "      <th></th>\n",
       "    </tr>\n",
       "  </thead>\n",
       "  <tbody>\n",
       "    <tr>\n",
       "      <th>@FoxNews</th>\n",
       "      <td>-0.112</td>\n",
       "      <td>0.115</td>\n",
       "      <td>0.826</td>\n",
       "      <td>0.059</td>\n",
       "    </tr>\n",
       "    <tr>\n",
       "      <th>@CBSNews</th>\n",
       "      <td>-0.149</td>\n",
       "      <td>0.109</td>\n",
       "      <td>0.844</td>\n",
       "      <td>0.047</td>\n",
       "    </tr>\n",
       "    <tr>\n",
       "      <th>@BBCNews</th>\n",
       "      <td>-0.138</td>\n",
       "      <td>0.125</td>\n",
       "      <td>0.827</td>\n",
       "      <td>0.049</td>\n",
       "    </tr>\n",
       "    <tr>\n",
       "      <th>@CNN</th>\n",
       "      <td>-0.069</td>\n",
       "      <td>0.082</td>\n",
       "      <td>0.863</td>\n",
       "      <td>0.055</td>\n",
       "    </tr>\n",
       "    <tr>\n",
       "      <th>@nytimes</th>\n",
       "      <td>-0.062</td>\n",
       "      <td>0.075</td>\n",
       "      <td>0.875</td>\n",
       "      <td>0.050</td>\n",
       "    </tr>\n",
       "  </tbody>\n",
       "</table>\n",
       "</div>"
      ],
      "text/plain": [
       "          Compound Score  Negative Score  Neutral Score  Postive Score\n",
       "Username                                                              \n",
       "@FoxNews          -0.112           0.115          0.826          0.059\n",
       "@CBSNews          -0.149           0.109          0.844          0.047\n",
       "@BBCNews          -0.138           0.125          0.827          0.049\n",
       "@CNN              -0.069           0.082          0.863          0.055\n",
       "@nytimes          -0.062           0.075          0.875          0.050"
      ]
     },
     "execution_count": 3,
     "metadata": {},
     "output_type": "execute_result"
    }
   ],
   "source": [
    "# Create DataFrame from Results List\n",
    "results_df = pd.DataFrame(results_list).set_index(\"Username\").round(3)\n",
    "results_df"
   ]
  },
  {
   "cell_type": "code",
   "execution_count": 5,
   "metadata": {},
   "outputs": [
    {
     "data": {
      "image/png": "[encoded data removed]",
      "text/plain": [
       "<matplotlib.figure.Figure at 0x10b419320>"
      ]
     },
     "metadata": {},
     "output_type": "display_data"
    }
   ],
   "source": [
    "ax = results_df[['Compound Score']].plot(kind='bar', title =(\"Sentiment Analysis of Tweets\"), figsize=(15, 10), legend=True, fontsize=12)\n",
    "ax.set_xlabel(\"News Sources\", fontsize=12)\n",
    "ax.set_ylabel(\"Tweet Polarity\", fontsize=12)\n",
    "plt.show()"
   ]
  },
  {
   "cell_type": "code",
   "execution_count": null,
   "metadata": {},
   "outputs": [],
   "source": []
  }
 ],
 "metadata": {
  "kernelspec": {
   "display_name": "Python 3",
   "language": "python",
   "name": "python3"
  },
  "language_info": {
   "codemirror_mode": {
    "name": "ipython",
    "version": 3
   },
   "file_extension": ".py",
   "mimetype": "text/x-python",
   "name": "python",
   "nbconvert_exporter": "python",
   "pygments_lexer": "ipython3",
   "version": "3.6.4"
  },
  "varInspector": {
   "cols": {
    "lenName": 16,
    "lenType": 16,
    "lenVar": 40
   },
   "kernels_config": {
    "python": {
     "delete_cmd_postfix": "",
     "delete_cmd_prefix": "del ",
     "library": "var_list.py",
     "varRefreshCmd": "print(var_dic_list())"
    },
    "r": {
     "delete_cmd_postfix": ") ",
     "delete_cmd_prefix": "rm(",
     "library": "var_list.r",
     "varRefreshCmd": "cat(var_dic_list()) "
    }
   },
   "types_to_exclude": [
    "module",
    "function",
    "builtin_function_or_method",
    "instance",
    "_Feature"
   ],
   "window_display": false
  }
 },
 "nbformat": 4,
 "nbformat_minor": 2
}
